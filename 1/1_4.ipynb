{
 "cells": [
  {
   "cell_type": "code",
   "execution_count": 1,
   "metadata": {},
   "outputs": [
    {
     "name": "stdout",
     "output_type": "stream",
     "text": [
      "\n",
      "Tabela de Estatísticas do Número de Mortes Prematuras (STROKE):\n",
      "            Média    Q1  Mediana (Q2)      Q3  Desvio Padrão  Assimetria   Curtose\n",
      "Espanha  440.9848  13.0          56.5  248.75      1654.5759     11.1475  164.9747\n",
      "França   259.1919   6.0          36.5  150.00      1207.8623     16.8619  361.7898\n",
      "Itália   668.8781  21.0          78.0  295.25      3425.7706     16.2732  338.9293\n",
      "Grécia   334.1071   7.0          39.5  188.50      1321.0480     10.4476  140.3499\n"
     ]
    },
    {
     "name": "stderr",
     "output_type": "stream",
     "text": [
      "C:\\Users\\gonga\\AppData\\Local\\Temp\\ipykernel_13208\\505087276.py:18: SettingWithCopyWarning: \n",
      "A value is trying to be set on a copy of a slice from a DataFrame.\n",
      "Try using .loc[row_indexer,col_indexer] = value instead\n",
      "\n",
      "See the caveats in the documentation: https://pandas.pydata.org/pandas-docs/stable/user_guide/indexing.html#returning-a-view-versus-a-copy\n",
      "  stroke_data['Value'] = pd.to_numeric(stroke_data['Value'].str.replace(',', '.'), errors='coerce')\n"
     ]
    }
   ],
   "source": [
    "import pandas as pd\n",
    "import numpy as np\n",
    "from scipy.stats import skew, kurtosis\n",
    "\n",
    "# Lendo o arquivo CSV\n",
    "df = pd.read_csv(\n",
    "    '../AIRPOL_data.csv',\n",
    "    delimiter=';',\n",
    "    header=0,\n",
    "    usecols=[0, 1, 2, 3, 4, 5, 6, 7]\n",
    ")\n",
    "\n",
    "# Filtrando os dados para os países especificados e STROKE\n",
    "countries = ['Spain', 'France', 'Italy', 'Greece']\n",
    "stroke_data = df[(df['Country'].isin(countries)) & (df['Outcome'] == 'Stroke')]\n",
    "\n",
    "# Convertendo 'Value' para numérico\n",
    "stroke_data['Value'] = pd.to_numeric(stroke_data['Value'].str.replace(',', '.'), errors='coerce')\n",
    "\n",
    "# Função para calcular todas as estatísticas\n",
    "def calculate_stats(data):\n",
    "    if len(data) == 0:\n",
    "        return pd.Series({\n",
    "            'Média': np.nan,\n",
    "            'Q1': np.nan,\n",
    "            'Mediana (Q2)': np.nan,\n",
    "            'Q3': np.nan,\n",
    "            'Desvio Padrão': np.nan,\n",
    "            'Assimetria': np.nan,\n",
    "            'Curtose': np.nan\n",
    "        })\n",
    "    return pd.Series({\n",
    "        'Média': data.mean(),\n",
    "        'Q1': data.quantile(0.25),\n",
    "        'Mediana (Q2)': data.median(),\n",
    "        'Q3': data.quantile(0.75),\n",
    "        'Desvio Padrão': data.std(),\n",
    "        'Assimetria': skew(data.dropna()),\n",
    "        'Curtose': kurtosis(data.dropna(), fisher=True)  # Curtose \"excessiva\" (subtrai 3 da curtose normal)\n",
    "    })\n",
    "\n",
    "# Calculando estatísticas para cada país\n",
    "stats_table = pd.DataFrame({\n",
    "    country: calculate_stats(stroke_data[stroke_data['Country'] == country]['Value'])\n",
    "    for country in countries\n",
    "}).T\n",
    "\n",
    "# Renomeando o índice para nomes completos dos países\n",
    "stats_table.index = ['Espanha', 'França', 'Itália', 'Grécia']\n",
    "\n",
    "# Formatando com 4 casas decimais\n",
    "stats_table = stats_table.round(4)\n",
    "\n",
    "# Exibindo a tabela\n",
    "print(\"\\nTabela de Estatísticas do Número de Mortes Prematuras (STROKE):\")\n",
    "print(stats_table.to_string())"
   ]
  }
 ],
 "metadata": {
  "kernelspec": {
   "display_name": "base",
   "language": "python",
   "name": "python3"
  },
  "language_info": {
   "codemirror_mode": {
    "name": "ipython",
    "version": 3
   },
   "file_extension": ".py",
   "mimetype": "text/x-python",
   "name": "python",
   "nbconvert_exporter": "python",
   "pygments_lexer": "ipython3",
   "version": "3.12.7"
  }
 },
 "nbformat": 4,
 "nbformat_minor": 2
}
