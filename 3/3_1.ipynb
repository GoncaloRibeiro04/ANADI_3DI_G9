{
 "cells": [
  {
   "metadata": {},
   "cell_type": "markdown",
   "source": "## Imports",
   "id": "40864e437fdc3538"
  },
  {
   "metadata": {},
   "cell_type": "code",
   "outputs": [],
   "execution_count": null,
   "source": [
    "import pandas as pd\n",
    "import numpy as np\n",
    "from scipy import stats\n",
    "import itertools"
   ],
   "id": "7cd405b4f328b226"
  },
  {
   "metadata": {},
   "cell_type": "markdown",
   "source": "## Preparation",
   "id": "a1d0fa94ac960d4a"
  },
  {
   "metadata": {},
   "cell_type": "code",
   "outputs": [],
   "execution_count": null,
   "source": [
    "data = pd.read_csv('../AIRPOL_data.csv', sep=';', decimal=',')\n",
    "\n",
    "countries_pm25 = ['Portugal', 'Spain', 'France', 'Italy']\n",
    "pm25_data = data[(data['Air_Pollutant'] == 'PM2.5') & (data['Country'].isin(countries_pm25))]\n",
    "\n",
    "pm25_dict = pm25_data.groupby('Country')['Air_Pollution_Average[ug/m3]'].apply(list).to_dict()"
   ],
   "id": "cc9ecceee6ffdc2"
  },
  {
   "metadata": {},
   "cell_type": "markdown",
   "source": "## Resolution",
   "id": "11553e0fea18412d"
  },
  {
   "metadata": {
    "jupyter": {
     "is_executing": true
    }
   },
   "cell_type": "code",
   "source": [
    "# =============================================================================\n",
    "# 4.3.1 Dados relativos aos niveis medio do poluente PM2.5 e respetiva tabela de correlação\n",
    "# =============================================================================\n",
    "\n",
    "# Calcular a correlação entre os países emparelhando os vetores\n",
    "corr_matrix = pd.DataFrame(index=countries_pm25, columns=countries_pm25, dtype=float)\n",
    "\n",
    "for c1, c2 in itertools.product(countries_pm25, repeat=2):\n",
    "    arr1 = np.array(pm25_dict[c1])\n",
    "    arr2 = np.array(pm25_dict[c2])\n",
    "    n_common = min(len(arr1), len(arr2))\n",
    "    if n_common > 1:\n",
    "        r, _ = stats.pearsonr(arr1[:n_common], arr2[:n_common])\n",
    "        corr_matrix.loc[c1, c2] = r\n",
    "    else:\n",
    "        corr_matrix.loc[c1, c2] = np.nan\n",
    "\n",
    "print(\"Tabela de Correlação entre níveis de PM2.5:\")\n",
    "print(corr_matrix)"
   ],
   "id": "642309cba0b2c989",
   "outputs": [],
   "execution_count": null
  }
 ],
 "metadata": {},
 "nbformat": 5,
 "nbformat_minor": 9
}
