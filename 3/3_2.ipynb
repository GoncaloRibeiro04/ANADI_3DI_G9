{
 "cells": [
  {
   "metadata": {},
   "cell_type": "markdown",
   "source": "## Imports\n",
   "id": "b6b79f97f2bef650"
  },
  {
   "metadata": {},
   "cell_type": "code",
   "outputs": [],
   "execution_count": null,
   "source": [
    "import pandas as pd\n",
    "import numpy as np\n",
    "from scipy import stats\n",
    "import statsmodels.api as sm\n",
    "from statsmodels.stats.outliers_influence import variance_inflation_factor"
   ],
   "id": "f57aa1654828aa0f"
  },
  {
   "metadata": {},
   "cell_type": "markdown",
   "source": [
    "## Preparation\n",
    "\n"
   ],
   "id": "9accf987fe01302f"
  },
  {
   "metadata": {},
   "cell_type": "code",
   "outputs": [],
   "execution_count": null,
   "source": [
    "data = pd.read_csv('../AIRPOL_data.csv', sep=';', decimal=',')\n",
    "\n",
    "data_germany = data[(data['Country'] == 'Germany') & (data['Air_Pollutant'] == 'PM2.5')]\n",
    "\n",
    "# Selecionar as variáveis que vão ser utilizadas:\n",
    "# X1: Nível médio de poluição, X2: Área da região afetada, Y: Número de mortes prematuras\n",
    "data_ger = data_germany[['NUTS_Code', 'Air_Pollution_Average[ug/m3]', 'Populated_Area[km2]', 'Value']].dropna()\n",
    "\n",
    "# Definir as variáveis independentes (X) e dependente (Y)\n",
    "X = data_ger[['Air_Pollution_Average[ug/m3]', 'Populated_Area[km2]']]\n",
    "Y = data_ger['Value']"
   ],
   "id": "13bccf0f77189b08"
  },
  {
   "metadata": {},
   "cell_type": "markdown",
   "source": "## Resolution",
   "id": "a3e78249064eb936"
  },
  {
   "metadata": {},
   "cell_type": "markdown",
   "source": "### a) Modelo de Regressão Linear",
   "id": "679b0997a200ebd5"
  },
  {
   "metadata": {},
   "cell_type": "code",
   "outputs": [],
   "execution_count": null,
   "source": [
    "# Adicionar constante para o modelo\n",
    "X_const = sm.add_constant(X)\n",
    "\n",
    "model = sm.OLS(Y, X_const).fit()"
   ],
   "id": "ad5059fb58e1a2a5"
  },
  {
   "metadata": {},
   "cell_type": "markdown",
   "source": "### b) Condições sobre os resíduos.",
   "id": "8e4de368d71ad09"
  },
  {
   "metadata": {},
   "cell_type": "code",
   "outputs": [],
   "execution_count": null,
   "source": [
    "residuos = model.resid\n",
    "\n",
    "# Teste de normalidade dos resíduos com Shapiro-Wilk\n",
    "shapiro_res = stats.shapiro(residuos)"
   ],
   "id": "c1b40cbecb845e0b"
  },
  {
   "metadata": {},
   "cell_type": "markdown",
   "source": "### c) Existência de colinearidade (VIF)",
   "id": "1ab69212c224e1a7"
  },
  {
   "metadata": {},
   "cell_type": "code",
   "outputs": [],
   "execution_count": null,
   "source": [
    "vif_data = pd.DataFrame()\n",
    "vif_data['Variável'] = X_const.columns\n",
    "vif_data['VIF'] = [variance_inflation_factor(X_const.values, i)\n",
    "                   for i in range(X_const.shape[1])]"
   ],
   "id": "9e9c1a882d858fa3"
  },
  {
   "metadata": {},
   "cell_type": "markdown",
   "source": [
    "### d) Comentário sobre o modelo obtido e suas características para a sua qualidade do mesmo\n",
    "\n"
   ],
   "id": "54326d3771bf868d"
  },
  {
   "metadata": {},
   "cell_type": "code",
   "outputs": [],
   "execution_count": null,
   "source": [
    "print('Resumo do Modelo Obtido')\n",
    "print(model.summary())\n",
    "\n",
    "\n",
    "print('\\nTeste de normalidade dos resíduos')\n",
    "print(f\"Statistic: {shapiro_res.statistic:.4f}, p-value: {shapiro_res.pvalue:.4f}\")\n",
    "print(\"Se o valor de p-value > 0.05 no teste de Shapiro-Willk podemos assumir normalidade\")\n",
    "\n",
    "print('\\nResiduos')\n",
    "print(residuos)\n",
    "\n",
    "print(\"\\nValores de VIF\")\n",
    "print(vif_data)\n",
    "print(\"Valores de VIF superiores a 5 ou 10 indicam colinearidade\")"
   ],
   "id": "277dd874e79297d6"
  },
  {
   "metadata": {},
   "cell_type": "markdown",
   "source": "### e) Estimativa do número de mortes para a regiões com NUTS code",
   "id": "85a739d0aee775a4"
  },
  {
   "metadata": {},
   "cell_type": "code",
   "outputs": [],
   "execution_count": null,
   "source": [
    "nuts_codes = ['DE131', 'DE132', 'DE133', 'DE134', 'DE135', 'DE136', 'DE137', 'DE138', 'DE139']\n",
    "\n",
    "data_ger_pred = data_ger[data_ger['NUTS_Code'].isin(nuts_codes)].copy()\n",
    "\n",
    "if not data_ger_pred.empty:\n",
    "    X_pred = data_ger_pred[['Air_Pollution_Average[ug/m3]', 'Populated_Area[km2]']]\n",
    "    X_pred_const = sm.add_constant(X_pred)\n",
    "    data_ger_pred['Prediction'] = model.predict(X_pred_const)\n",
    "    print(\"\\nPrevisão vs. Valores Reais:\")\n",
    "    print(data_ger_pred[['NUTS_Code', 'Value', 'Prediction']])\n",
    "else:\n",
    "    print(\"\\nNão foram encontrados registros para os NUTS Codes especificados.\")"
   ],
   "id": "54dacad7239c46ac"
  }
 ],
 "metadata": {},
 "nbformat": 5,
 "nbformat_minor": 9
}
