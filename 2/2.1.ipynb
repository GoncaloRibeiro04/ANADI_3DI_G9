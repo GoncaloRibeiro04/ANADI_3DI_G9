{
 "cells": [
  {
   "metadata": {
    "jupyter": {
     "is_executing": true
    }
   },
   "cell_type": "code",
   "source": [
    "#Imports\n",
    "#===========================================\n",
    "import pandas as pd"
   ],
   "id": "c3d70e0967fae7e1",
   "outputs": [],
   "execution_count": null
  },
  {
   "metadata": {
    "jupyter": {
     "is_executing": true
    }
   },
   "cell_type": "code",
   "source": [
    "#Preparation\n",
    "#=====================================================\n",
    "data = pd.read_csv('../AIRPOL_data.csv', sep=';')\n",
    "\n",
    "#Converter para float\n",
    "data['Air_Pollution_Average[ug/m3]'] = pd.to_numeric(data['Air_Pollution_Average[ug/m3]'].str.replace(',', '.'), errors='coerce')\n",
    "\n",
    "# Foi utilizado uma significância de 0.05\n",
    "significancia = 0.05"
   ],
   "id": "37c6faa3dd1c2d0c",
   "outputs": [],
   "execution_count": null
  },
  {
   "metadata": {
    "jupyter": {
     "is_executing": true
    }
   },
   "cell_type": "code",
   "source": [
    "# =============================================================================\n",
    "# 1. Selecionar uma amostra de 50 registos para Portugal (AirpolPT)\n",
    "# =============================================================================\n",
    "data_pt = data[data['Country'] == 'Portugal']\n",
    "\n",
    "# Amostra de 50 elementos\n",
    "sample_pt = data_pt.sample(n=50)"
   ],
   "id": "f3c394c9b034b49a",
   "outputs": [],
   "execution_count": null
  },
  {
   "metadata": {
    "jupyter": {
     "is_executing": true
    }
   },
   "cell_type": "code",
   "source": "print(sample_pt)",
   "id": "67fd110eb001f6b",
   "outputs": [],
   "execution_count": null
  }
 ],
 "metadata": {},
 "nbformat": 5,
 "nbformat_minor": 9
}
