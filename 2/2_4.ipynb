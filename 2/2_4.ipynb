{
 "cells": [
  {
   "metadata": {},
   "cell_type": "markdown",
   "source": "## Imports\n",
   "id": "36effb3ad9f52f8e"
  },
  {
   "metadata": {},
   "cell_type": "code",
   "outputs": [],
   "execution_count": null,
   "source": [
    "\n",
    "import pandas as pd\n",
    "import numpy as np\n",
    "from scipy import stats\n",
    "from statsmodels.stats.multicomp import pairwise_tukeyhsd\n",
    "import statsmodels.stats.multicomp as multi"
   ],
   "id": "bf0ae3a8d7731571"
  },
  {
   "metadata": {},
   "cell_type": "markdown",
   "source": "## Preparation",
   "id": "a6a8dc4e9ed7e07c"
  },
  {
   "metadata": {},
   "cell_type": "code",
   "outputs": [],
   "execution_count": null,
   "source": [
    "data = pd.read_csv('../AIRPOL_data.csv', sep=';')\n",
    "\n",
    "#Converter para float\n",
    "data['Air_Pollution_Average[ug/m3]'] = pd.to_numeric(data['Air_Pollution_Average[ug/m3]'].str.replace(',', '.'), errors='coerce')\n",
    "\n",
    "# Foi utilizado uma significância de 0.05\n",
    "significancia = 0.05\n",
    "\n",
    "# Data\n",
    "data_spain = data[data['Country'] == 'Spain']\n",
    "data_france = data[data['Country'] == 'France']\n",
    "data_pt = data[data['Country'] == 'Portugal']\n",
    "data_alb = data[data['Country'] == 'Albania']\n",
    "\n",
    "# Samples\n",
    "sample_sp = data_spain.sample(n=20)\n",
    "sample_fr = data_france.sample(n=20)\n",
    "sample_pt = data_pt.sample(n=20)\n",
    "sample_alb = data_alb.sample(n=20)\n",
    "\n",
    "levels_sp = sample_sp['Air_Pollution_Average[ug/m3]'].dropna()\n",
    "levels_fr = sample_fr['Air_Pollution_Average[ug/m3]'].dropna()\n",
    "levels_alb = sample_alb['Air_Pollution_Average[ug/m3]'].dropna()\n",
    "levels_pt = sample_pt['Air_Pollution_Average[ug/m3]'].dropna()\n"
   ],
   "id": "e1eec9df4aba35ad"
  },
  {
   "metadata": {},
   "cell_type": "markdown",
   "source": "## Resolution",
   "id": "3cd6cea1f8f7a807"
  },
  {
   "metadata": {},
   "cell_type": "code",
   "outputs": [],
   "execution_count": null,
   "source": [
    "# =============================================================================\n",
    "# 4. ANOVA para comparar os níveis médios de poluição entre 4 países:\n",
    "#    Portugal, Albânia, Espanha e França (amostras de 20 registos cada)\n",
    "# =============================================================================\n",
    "\n",
    "# Realizar o teste ANOVA (H0: as médias dos 4 países são iguais)\n",
    "f_stat, p_anova = stats.f_oneway(levels_pt, levels_alb, levels_sp, levels_fr)\n",
    "print(\"\\nResultado da ANOVA para 4 países:\")\n",
    "print(\"F-statistic:\", f_stat)\n",
    "print(\"p-value:\", p_anova)\n",
    "\n",
    "# Se a ANOVA indicar diferenças significativas, executar análise post-hoc\n",
    "if p_anova < significancia:\n",
    "    # Combinar os dados em um único DataFrame para o teste post-hoc\n",
    "    df_anova = pd.concat([\n",
    "        pd.DataFrame({'Country': 'Portugal', 'Polution_Level': levels_pt}),\n",
    "        pd.DataFrame({'Country': 'Albânia', 'Polution_Level': levels_alb}),\n",
    "        pd.DataFrame({'Country': 'Espanha', 'Polution_Level': levels_sp}),\n",
    "        pd.DataFrame({'Country': 'França', 'Polution_Level': levels_fr})\n",
    "    ])\n",
    "    tukey = pairwise_tukeyhsd(endog=df_anova['Polution_Level'],\n",
    "                              groups=df_anova['Country'],\n",
    "                              alpha=0.05)\n",
    "    print(\"\\nResultados do teste post-hoc:\")\n",
    "    print(tukey)\n",
    "else:\n",
    "    print(\"\\nNão foram encontradas diferenças significativas entre os países (p >= 0.05).\")"
   ],
   "id": "36a765a10db3d0f1"
  }
 ],
 "metadata": {},
 "nbformat": 5,
 "nbformat_minor": 9
}
