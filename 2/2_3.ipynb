{
 "cells": [
  {
   "metadata": {},
   "cell_type": "markdown",
   "source": "## Imports",
   "id": "8fbc50307a96a83"
  },
  {
   "metadata": {},
   "cell_type": "code",
   "outputs": [],
   "execution_count": null,
   "source": [
    "import pandas as pd\n",
    "import numpy as np\n",
    "from scipy import stats"
   ],
   "id": "2c9ff281dc6ebf75"
  },
  {
   "metadata": {},
   "cell_type": "markdown",
   "source": "## Preparation",
   "id": "54b4565e69a0b9b4"
  },
  {
   "metadata": {},
   "cell_type": "code",
   "outputs": [],
   "execution_count": null,
   "source": [
    "data = pd.read_csv('../AIRPOL_data.csv', sep=';')\n",
    "\n",
    "#Converter para float\n",
    "data['Air_Pollution_Average[ug/m3]'] = pd.to_numeric(data['Air_Pollution_Average[ug/m3]'].str.replace(',', '.'), errors='coerce')\n",
    "\n",
    "# Foi utilizado uma significância de 0.05\n",
    "significancia = 0.05\n",
    "\n",
    "#Amostras\n",
    "data_spain = data[data['Country'] == 'Spain']\n",
    "data_france = data[data['Country'] == 'France']\n",
    "\n",
    "sample_spain = data_spain.sample(n=20)\n",
    "sample_france = data_france.sample(n=20)\n",
    "\n",
    "levels_sp = sample_spain['Air_Pollution_Average[ug/m3]'].dropna()\n",
    "levels_fr = sample_france['Air_Pollution_Average[ug/m3]'].dropna()\n"
   ],
   "id": "82138036deabc977"
  },
  {
   "metadata": {},
   "cell_type": "markdown",
   "source": "## Resolution",
   "id": "758a608ab8c50e20"
  },
  {
   "metadata": {},
   "cell_type": "code",
   "outputs": [],
   "execution_count": null,
   "source": [
    "# =============================================================================\n",
    "# 3. Teste de diferenças entre os níveis de poluição em Espanha e França\n",
    "# =============================================================================\n",
    "# Selecionar amostras aleatórias de 20 registos para cada país\n",
    "\n",
    "print(\"Teste 3\")\n",
    "print(\"=========================================================\")\n",
    "\n",
    "# Aplicar o teste de Levene para verificar a igualdade das variâncias\n",
    "levene_stat, levene_p = stats.levene(levels_sp, levels_fr)\n",
    "print(\"Teste de Levene:\")\n",
    "print(\"Statistic:\", levene_stat)\n",
    "print(\"p-value:\", levene_p)\n",
    "\n",
    "equal_var_flag = True if levene_p > 0.05 else False\n",
    "\n",
    "# Teste t\n",
    "t_stat, p_value = stats.ttest_ind(levels_sp, levels_fr, equal_var=equal_var_flag)\n",
    "print(\"_____________________________\")\n",
    "print(\"T-Test :\")\n",
    "print(\"t-statistic:\", t_stat)\n",
    "print(\"p-value:\", p_value)\n",
    "\n",
    "if p_value < significancia:\n",
    "    print(\"=========================================================\")\n",
    "    print(\"Rejeita-se a hipótese\")\n",
    "else:\n",
    "    print(\"=========================================================\")\n",
    "    print(\"Não há evidências para rejeitar a hipótese\")\n"
   ],
   "id": "c8663e4f7d81687a"
  }
 ],
 "metadata": {},
 "nbformat": 5,
 "nbformat_minor": 9
}
