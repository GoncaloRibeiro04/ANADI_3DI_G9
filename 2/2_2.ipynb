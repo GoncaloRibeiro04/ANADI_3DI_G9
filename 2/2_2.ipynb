{
 "cells": [
  {
   "metadata": {},
   "cell_type": "markdown",
   "source": "## Imports",
   "id": "eb72cb43b0932bb5"
  },
  {
   "metadata": {},
   "cell_type": "code",
   "outputs": [],
   "execution_count": null,
   "source": [
    "import pandas as pd\n",
    "import numpy as np\n",
    "from scipy import stats"
   ],
   "id": "f69ff3baa9d0c5e3"
  },
  {
   "metadata": {},
   "cell_type": "markdown",
   "source": "## Preparation",
   "id": "972e96088f5fe992"
  },
  {
   "metadata": {},
   "cell_type": "code",
   "outputs": [],
   "execution_count": null,
   "source": [
    "data = pd.read_csv('../AIRPOL_data.csv', sep=';')\n",
    "\n",
    "#Converter para float\n",
    "data['Air_Pollution_Average[ug/m3]'] = pd.to_numeric(data['Air_Pollution_Average[ug/m3]'].str.replace(',', '.'), errors='coerce')\n",
    "\n",
    "# Foi utilizado uma significância de 0.05\n",
    "significancia = 0.05\n",
    "\n",
    "data_pt = data[data['Country'] == 'Portugal']\n",
    "data_alb = data[data['Country'] == 'Albania']\n",
    "\n",
    "# Samples\n",
    "sample_pt = data_pt.sample(n=50)\n",
    "sample_alb = data_alb.sample(n=50)\n",
    "\n",
    "levels_alb = sample_alb['Air_Pollution_Average[ug/m3]'].dropna()\n",
    "levels_pt = sample_pt['Air_Pollution_Average[ug/m3]'].dropna()\n"
   ],
   "id": "90647422b1e379b8"
  },
  {
   "metadata": {},
   "cell_type": "markdown",
   "source": "## Resolution",
   "id": "b4ff3ea16138b997"
  },
  {
   "metadata": {},
   "cell_type": "code",
   "outputs": [],
   "execution_count": null,
   "source": [
    "# =============================================================================\n",
    "# 2. Testar se o número médio dos níveis de poluição de Portugal é inferior ao número homólogo na Albânia\n",
    "# =============================================================================\n",
    "\n",
    "print(\"Teste 2\")\n",
    "print(\"=========================================================\")\n",
    "\n",
    "#Teste de normalidade\n",
    "sw_pt = stats.shapiro(levels_pt)\n",
    "sw_alb = stats.shapiro(levels_alb)\n",
    "\n",
    "print(\"Teste de Shapiro-Wilk:\")\n",
    "print(\"Portugal p-value:\", sw_pt.pvalue)\n",
    "print(\"Albânia p-value:\", sw_alb.pvalue)\n",
    "\n",
    "print(\"_____________________________\")\n",
    "print(\"T-Test :\")\n",
    "# Teste t de indução de duas amostras\n",
    "if sw_pt.pvalue > significancia and sw_alb.pvalue > significancia:\n",
    "    t_stat, p_value = stats.ttest_ind(levels_pt, levels_alb, equal_var=True, nan_policy='omit', alternative='greater')\n",
    "else:\n",
    "    t_stat, p_value = stats.ttest_ind(levels_pt, levels_alb, equal_var=False, nan_policy='omit', alternative='greater')\n",
    "\n",
    "print(f\"Statistic: {t_stat}\")\n",
    "print(f\"p-value: {p_value}\")\n",
    "\n",
    "\n",
    "if p_value < significancia:\n",
    "    print(\"=========================================================\")\n",
    "    print(\"Rejeita-se a hipótese\")\n",
    "else:\n",
    "    print(\"=========================================================\")\n",
    "    print(\"Não há evidências para rejeitar a hipótese\")\n"
   ],
   "id": "82e43764b219c66e"
  }
 ],
 "metadata": {},
 "nbformat": 5,
 "nbformat_minor": 9
}
